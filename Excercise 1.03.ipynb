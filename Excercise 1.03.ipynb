{
 "cells": [
  {
   "cell_type": "markdown",
   "metadata": {},
   "source": [
    "# Excercise 1.03"
   ]
  },
  {
   "cell_type": "markdown",
   "metadata": {},
   "source": [
    "### In this excercise we will be using a dataset to predict whether a patient will have a stroke or not depending on the features"
   ]
  },
  {
   "cell_type": "markdown",
   "metadata": {},
   "source": [
    "#### Importing and downloading the the required libraries "
   ]
  },
  {
   "cell_type": "code",
   "execution_count": null,
   "metadata": {
    "execution": {
     "iopub.execute_input": "2022-01-31T15:17:49.700922Z",
     "iopub.status.busy": "2022-01-31T15:17:49.700025Z",
     "iopub.status.idle": "2022-01-31T15:17:51.050368Z",
     "shell.execute_reply": "2022-01-31T15:17:51.049932Z",
     "shell.execute_reply.started": "2022-01-31T15:12:00.814541Z"
    },
    "papermill": {
     "duration": 1.419069,
     "end_time": "2022-01-31T15:17:51.050481",
     "exception": false,
     "start_time": "2022-01-31T15:17:49.631412",
     "status": "completed"
    },
    "tags": []
   },
   "outputs": [],
   "source": [
    "!pip install pandas\n",
    "!pip install sklearn\n",
    "import pandas as pd\n",
    "\n",
    "import warnings\n",
    "warnings.filterwarnings('ignore')"
   ]
  },
  {
   "cell_type": "markdown",
   "metadata": {},
   "source": [
    "#### Loading the dataset "
   ]
  },
  {
   "cell_type": "code",
   "execution_count": null,
   "metadata": {
    "execution": {
     "iopub.execute_input": "2022-01-31T15:17:51.137664Z",
     "iopub.status.busy": "2022-01-31T15:17:51.137118Z",
     "iopub.status.idle": "2022-01-31T15:17:51.168029Z",
     "shell.execute_reply": "2022-01-31T15:17:51.168475Z",
     "shell.execute_reply.started": "2022-01-31T15:12:00.829675Z"
    },
    "papermill": {
     "duration": 0.076468,
     "end_time": "2022-01-31T15:17:51.168631",
     "exception": false,
     "start_time": "2022-01-31T15:17:51.092163",
     "status": "completed"
    },
    "tags": []
   },
   "outputs": [],
   "source": [
    "data = pd.read_csv('https://raw.githubusercontent.com/fenago/datasets/main/healthcare-dataset-stroke-data.csv')"
   ]
  },
  {
   "cell_type": "markdown",
   "metadata": {},
   "source": [
    "#### Now lets look at the dataset"
   ]
  },
  {
   "cell_type": "code",
   "execution_count": null,
   "metadata": {
    "execution": {
     "iopub.execute_input": "2022-01-31T15:17:51.262688Z",
     "iopub.status.busy": "2022-01-31T15:17:51.262146Z",
     "iopub.status.idle": "2022-01-31T15:17:51.281725Z",
     "shell.execute_reply": "2022-01-31T15:17:51.282226Z",
     "shell.execute_reply.started": "2022-01-31T15:12:00.855741Z"
    },
    "papermill": {
     "duration": 0.070853,
     "end_time": "2022-01-31T15:17:51.282367",
     "exception": false,
     "start_time": "2022-01-31T15:17:51.211514",
     "status": "completed"
    },
    "tags": []
   },
   "outputs": [],
   "source": [
    "data.head()"
   ]
  },
  {
   "cell_type": "markdown",
   "metadata": {},
   "source": [
    "#### Dropping the id coulnm because it is of no use to us "
   ]
  },
  {
   "cell_type": "code",
   "execution_count": null,
   "metadata": {
    "execution": {
     "iopub.execute_input": "2022-01-31T15:17:51.371252Z",
     "iopub.status.busy": "2022-01-31T15:17:51.370728Z",
     "iopub.status.idle": "2022-01-31T15:17:51.382201Z",
     "shell.execute_reply": "2022-01-31T15:17:51.382643Z",
     "shell.execute_reply.started": "2022-01-31T15:12:00.876314Z"
    },
    "papermill": {
     "duration": 0.05853,
     "end_time": "2022-01-31T15:17:51.382784",
     "exception": false,
     "start_time": "2022-01-31T15:17:51.324254",
     "status": "completed"
    },
    "tags": []
   },
   "outputs": [],
   "source": [
    "data = data.drop('id',axis=1)"
   ]
  },
  {
   "cell_type": "markdown",
   "metadata": {},
   "source": [
    "### Data Cleaning"
   ]
  },
  {
   "cell_type": "code",
   "execution_count": null,
   "metadata": {
    "execution": {
     "iopub.execute_input": "2022-01-31T15:17:51.470386Z",
     "iopub.status.busy": "2022-01-31T15:17:51.469859Z",
     "iopub.status.idle": "2022-01-31T15:17:51.494013Z",
     "shell.execute_reply": "2022-01-31T15:17:51.493526Z",
     "shell.execute_reply.started": "2022-01-31T15:12:00.885948Z"
    },
    "papermill": {
     "duration": 0.06895,
     "end_time": "2022-01-31T15:17:51.494121",
     "exception": false,
     "start_time": "2022-01-31T15:17:51.425171",
     "status": "completed"
    },
    "tags": []
   },
   "outputs": [],
   "source": [
    "#checking the total null values in the data set\n",
    "\n",
    "data.info()"
   ]
  },
  {
   "cell_type": "code",
   "execution_count": null,
   "metadata": {
    "execution": {
     "iopub.execute_input": "2022-01-31T15:17:51.682412Z",
     "iopub.status.busy": "2022-01-31T15:17:51.681827Z",
     "iopub.status.idle": "2022-01-31T15:17:51.686680Z",
     "shell.execute_reply": "2022-01-31T15:17:51.687190Z",
     "shell.execute_reply.started": "2022-01-31T15:12:00.926687Z"
    },
    "papermill": {
     "duration": 0.049876,
     "end_time": "2022-01-31T15:17:51.687347",
     "exception": false,
     "start_time": "2022-01-31T15:17:51.637471",
     "status": "completed"
    },
    "tags": []
   },
   "outputs": [],
   "source": [
    "#checking the shape of the dataset\n",
    "data.shape"
   ]
  },
  {
   "cell_type": "code",
   "execution_count": null,
   "metadata": {
    "execution": {
     "iopub.execute_input": "2022-01-31T15:17:51.776927Z",
     "iopub.status.busy": "2022-01-31T15:17:51.776353Z",
     "iopub.status.idle": "2022-01-31T15:17:51.790671Z",
     "shell.execute_reply": "2022-01-31T15:17:51.791100Z",
     "shell.execute_reply.started": "2022-01-31T15:12:00.935755Z"
    },
    "papermill": {
     "duration": 0.060866,
     "end_time": "2022-01-31T15:17:51.791258",
     "exception": false,
     "start_time": "2022-01-31T15:17:51.730392",
     "status": "completed"
    },
    "tags": []
   },
   "outputs": [],
   "source": [
    "# checking for duplicates\n",
    "\n",
    "data.duplicated().sum()"
   ]
  },
  {
   "cell_type": "code",
   "execution_count": null,
   "metadata": {},
   "outputs": [],
   "source": [
    "#since bmi only had null values so dropping those null values\n",
    "data = data.dropna(subset=['bmi'])"
   ]
  },
  {
   "cell_type": "markdown",
   "metadata": {
    "papermill": {
     "duration": 0.053831,
     "end_time": "2022-01-31T15:17:55.750407",
     "exception": false,
     "start_time": "2022-01-31T15:17:55.696576",
     "status": "completed"
    },
    "tags": []
   },
   "source": [
    "### Apply the label encoding for categorical columns"
   ]
  },
  {
   "cell_type": "code",
   "execution_count": null,
   "metadata": {
    "execution": {
     "iopub.execute_input": "2022-01-31T15:17:55.858231Z",
     "iopub.status.busy": "2022-01-31T15:17:55.857663Z",
     "iopub.status.idle": "2022-01-31T15:17:55.863310Z",
     "shell.execute_reply": "2022-01-31T15:17:55.863713Z",
     "shell.execute_reply.started": "2022-01-31T15:12:04.460127Z"
    },
    "papermill": {
     "duration": 0.061207,
     "end_time": "2022-01-31T15:17:55.863874",
     "exception": false,
     "start_time": "2022-01-31T15:17:55.802667",
     "status": "completed"
    },
    "tags": []
   },
   "outputs": [],
   "source": [
    "# This is a step in which we assign labels to the categorical coulmns, don't worry about this now, we will cover this later.\n",
    "\n",
    "def LABEL_ENCODING(c1):\n",
    "    from sklearn import preprocessing\n",
    "    label_encoder = preprocessing.LabelEncoder()\n",
    "    data[c1]= label_encoder.fit_transform(data[c1])\n",
    "    data[c1].unique()"
   ]
  },
  {
   "cell_type": "code",
   "execution_count": null,
   "metadata": {
    "execution": {
     "iopub.execute_input": "2022-01-31T15:17:55.969970Z",
     "iopub.status.busy": "2022-01-31T15:17:55.969469Z",
     "iopub.status.idle": "2022-01-31T15:17:55.984705Z",
     "shell.execute_reply": "2022-01-31T15:17:55.984233Z",
     "shell.execute_reply.started": "2022-01-31T15:12:04.466534Z"
    },
    "papermill": {
     "duration": 0.068536,
     "end_time": "2022-01-31T15:17:55.984829",
     "exception": false,
     "start_time": "2022-01-31T15:17:55.916293",
     "status": "completed"
    },
    "tags": []
   },
   "outputs": [],
   "source": [
    "data.head()"
   ]
  },
  {
   "cell_type": "code",
   "execution_count": null,
   "metadata": {
    "execution": {
     "iopub.execute_input": "2022-01-31T15:17:56.091273Z",
     "iopub.status.busy": "2022-01-31T15:17:56.090736Z",
     "iopub.status.idle": "2022-01-31T15:17:56.282320Z",
     "shell.execute_reply": "2022-01-31T15:17:56.281737Z",
     "shell.execute_reply.started": "2022-01-31T15:12:04.492586Z"
    },
    "papermill": {
     "duration": 0.244582,
     "end_time": "2022-01-31T15:17:56.282431",
     "exception": false,
     "start_time": "2022-01-31T15:17:56.037849",
     "status": "completed"
    },
    "tags": []
   },
   "outputs": [],
   "source": [
    "LABEL_ENCODING(\"gender\")\n",
    "LABEL_ENCODING(\"ever_married\")\n",
    "LABEL_ENCODING(\"work_type\")\n",
    "LABEL_ENCODING(\"Residence_type\")\n",
    "LABEL_ENCODING(\"smoking_status\")\n",
    "data"
   ]
  },
  {
   "cell_type": "markdown",
   "metadata": {
    "papermill": {
     "duration": 0.050813,
     "end_time": "2022-01-31T15:17:56.384572",
     "exception": false,
     "start_time": "2022-01-31T15:17:56.333759",
     "status": "completed"
    },
    "tags": []
   },
   "source": [
    "### Import the independent and dependent variable."
   ]
  },
  {
   "cell_type": "code",
   "execution_count": null,
   "metadata": {
    "execution": {
     "iopub.execute_input": "2022-01-31T15:17:56.490808Z",
     "iopub.status.busy": "2022-01-31T15:17:56.490288Z",
     "iopub.status.idle": "2022-01-31T15:17:56.494368Z",
     "shell.execute_reply": "2022-01-31T15:17:56.494800Z",
     "shell.execute_reply.started": "2022-01-31T15:12:04.531130Z"
    },
    "papermill": {
     "duration": 0.061076,
     "end_time": "2022-01-31T15:17:56.494983",
     "exception": false,
     "start_time": "2022-01-31T15:17:56.433907",
     "status": "completed"
    },
    "tags": []
   },
   "outputs": [],
   "source": [
    "x = data.drop('stroke',axis=1)\n",
    "y = data['stroke']"
   ]
  },
  {
   "cell_type": "code",
   "execution_count": null,
   "metadata": {
    "execution": {
     "iopub.execute_input": "2022-01-31T15:17:56.602741Z",
     "iopub.status.busy": "2022-01-31T15:17:56.600825Z",
     "iopub.status.idle": "2022-01-31T15:17:56.604856Z",
     "shell.execute_reply": "2022-01-31T15:17:56.605378Z",
     "shell.execute_reply.started": "2022-01-31T15:12:04.540077Z"
    },
    "papermill": {
     "duration": 0.059862,
     "end_time": "2022-01-31T15:17:56.605527",
     "exception": false,
     "start_time": "2022-01-31T15:17:56.545665",
     "status": "completed"
    },
    "tags": []
   },
   "outputs": [],
   "source": [
    "print(x.shape)\n",
    "print(y.shape)"
   ]
  },
  {
   "cell_type": "markdown",
   "metadata": {
    "papermill": {
     "duration": 0.050414,
     "end_time": "2022-01-31T15:17:57.930552",
     "exception": false,
     "start_time": "2022-01-31T15:17:57.880138",
     "status": "completed"
    },
    "tags": []
   },
   "source": [
    "### Split the dataset into train and test"
   ]
  },
  {
   "cell_type": "code",
   "execution_count": null,
   "metadata": {
    "execution": {
     "iopub.execute_input": "2022-01-31T15:17:58.038235Z",
     "iopub.status.busy": "2022-01-31T15:17:58.037648Z",
     "iopub.status.idle": "2022-01-31T15:17:58.043278Z",
     "shell.execute_reply": "2022-01-31T15:17:58.043717Z",
     "shell.execute_reply.started": "2022-01-31T15:12:04.631533Z"
    },
    "papermill": {
     "duration": 0.062028,
     "end_time": "2022-01-31T15:17:58.043873",
     "exception": false,
     "start_time": "2022-01-31T15:17:57.981845",
     "status": "completed"
    },
    "tags": []
   },
   "outputs": [],
   "source": [
    "from sklearn.model_selection import train_test_split\n",
    "X_train, X_test, y_train, y_test = train_test_split(x, y, test_size = 0.25, random_state = 0)"
   ]
  },
  {
   "cell_type": "code",
   "execution_count": null,
   "metadata": {
    "execution": {
     "iopub.execute_input": "2022-01-31T15:17:58.152648Z",
     "iopub.status.busy": "2022-01-31T15:17:58.152135Z",
     "iopub.status.idle": "2022-01-31T15:17:58.156082Z",
     "shell.execute_reply": "2022-01-31T15:17:58.156552Z",
     "shell.execute_reply.started": "2022-01-31T15:12:04.639222Z"
    },
    "papermill": {
     "duration": 0.060449,
     "end_time": "2022-01-31T15:17:58.156694",
     "exception": false,
     "start_time": "2022-01-31T15:17:58.096245",
     "status": "completed"
    },
    "tags": []
   },
   "outputs": [],
   "source": [
    "print(X_train.shape)\n",
    "print(X_test.shape)\n",
    "print(y_train.shape)\n",
    "print(y_test.shape)"
   ]
  },
  {
   "cell_type": "markdown",
   "metadata": {
    "papermill": {
     "duration": 0.050395,
     "end_time": "2022-01-31T15:17:58.259421",
     "exception": false,
     "start_time": "2022-01-31T15:17:58.209026",
     "status": "completed"
    },
    "tags": []
   },
   "source": [
    "### Feature Scaling"
   ]
  },
  {
   "cell_type": "code",
   "execution_count": null,
   "metadata": {
    "execution": {
     "iopub.execute_input": "2022-01-31T15:17:58.368391Z",
     "iopub.status.busy": "2022-01-31T15:17:58.367835Z",
     "iopub.status.idle": "2022-01-31T15:17:58.374056Z",
     "shell.execute_reply": "2022-01-31T15:17:58.373568Z",
     "shell.execute_reply.started": "2022-01-31T15:12:04.652880Z"
    },
    "papermill": {
     "duration": 0.063672,
     "end_time": "2022-01-31T15:17:58.374175",
     "exception": false,
     "start_time": "2022-01-31T15:17:58.310503",
     "status": "completed"
    },
    "tags": []
   },
   "outputs": [],
   "source": [
    "from sklearn.preprocessing import StandardScaler\n",
    "sc = StandardScaler()\n",
    "X_train = sc.fit_transform(X_train)\n",
    "X_test = sc.transform(X_test)"
   ]
  },
  {
   "cell_type": "code",
   "execution_count": null,
   "metadata": {
    "execution": {
     "iopub.execute_input": "2022-01-31T15:17:58.481100Z",
     "iopub.status.busy": "2022-01-31T15:17:58.480561Z",
     "iopub.status.idle": "2022-01-31T15:17:58.484360Z",
     "shell.execute_reply": "2022-01-31T15:17:58.484847Z",
     "shell.execute_reply.started": "2022-01-31T15:12:04.672523Z"
    },
    "papermill": {
     "duration": 0.059767,
     "end_time": "2022-01-31T15:17:58.485008",
     "exception": false,
     "start_time": "2022-01-31T15:17:58.425241",
     "status": "completed"
    },
    "tags": []
   },
   "outputs": [],
   "source": [
    "X_train"
   ]
  },
  {
   "cell_type": "markdown",
   "metadata": {
    "papermill": {
     "duration": 0.052066,
     "end_time": "2022-01-31T15:17:58.589748",
     "exception": false,
     "start_time": "2022-01-31T15:17:58.537682",
     "status": "completed"
    },
    "tags": []
   },
   "source": [
    "### Training the Logistic Regression Model"
   ]
  },
  {
   "cell_type": "code",
   "execution_count": null,
   "metadata": {
    "execution": {
     "iopub.execute_input": "2022-01-31T15:17:58.701037Z",
     "iopub.status.busy": "2022-01-31T15:17:58.700467Z",
     "iopub.status.idle": "2022-01-31T15:17:58.721063Z",
     "shell.execute_reply": "2022-01-31T15:17:58.721674Z",
     "shell.execute_reply.started": "2022-01-31T15:12:04.681142Z"
    },
    "papermill": {
     "duration": 0.077306,
     "end_time": "2022-01-31T15:17:58.721842",
     "exception": false,
     "start_time": "2022-01-31T15:17:58.644536",
     "status": "completed"
    },
    "tags": []
   },
   "outputs": [],
   "source": [
    "from sklearn.linear_model import LogisticRegression\n",
    "classifier = LogisticRegression(random_state = 0)\n",
    "classifier.fit(X_train, y_train)"
   ]
  },
  {
   "cell_type": "code",
   "execution_count": null,
   "metadata": {
    "execution": {
     "iopub.execute_input": "2022-01-31T15:17:58.862065Z",
     "iopub.status.busy": "2022-01-31T15:17:58.861389Z",
     "iopub.status.idle": "2022-01-31T15:17:58.864778Z",
     "shell.execute_reply": "2022-01-31T15:17:58.865389Z",
     "shell.execute_reply.started": "2022-01-31T15:12:04.727062Z"
    },
    "papermill": {
     "duration": 0.072855,
     "end_time": "2022-01-31T15:17:58.865584",
     "exception": false,
     "start_time": "2022-01-31T15:17:58.792729",
     "status": "completed"
    },
    "tags": []
   },
   "outputs": [],
   "source": [
    "y_pred = classifier.predict(X_test)"
   ]
  },
  {
   "cell_type": "code",
   "execution_count": null,
   "metadata": {
    "execution": {
     "iopub.execute_input": "2022-01-31T15:17:59.007297Z",
     "iopub.status.busy": "2022-01-31T15:17:59.006495Z",
     "iopub.status.idle": "2022-01-31T15:17:59.010310Z",
     "shell.execute_reply": "2022-01-31T15:17:59.010705Z",
     "shell.execute_reply.started": "2022-01-31T15:12:04.736234Z"
    },
    "papermill": {
     "duration": 0.072544,
     "end_time": "2022-01-31T15:17:59.010861",
     "exception": false,
     "start_time": "2022-01-31T15:17:58.938317",
     "status": "completed"
    },
    "tags": []
   },
   "outputs": [],
   "source": [
    "y_pred"
   ]
  },
  {
   "cell_type": "markdown",
   "metadata": {},
   "source": [
    "### Calculating the accuracy of our model"
   ]
  },
  {
   "cell_type": "code",
   "execution_count": null,
   "metadata": {
    "execution": {
     "iopub.execute_input": "2022-01-31T15:17:59.119404Z",
     "iopub.status.busy": "2022-01-31T15:17:59.118761Z",
     "iopub.status.idle": "2022-01-31T15:17:59.125144Z",
     "shell.execute_reply": "2022-01-31T15:17:59.124252Z",
     "shell.execute_reply.started": "2022-01-31T15:12:04.749348Z"
    },
    "papermill": {
     "duration": 0.06238,
     "end_time": "2022-01-31T15:17:59.125298",
     "exception": false,
     "start_time": "2022-01-31T15:17:59.062918",
     "status": "completed"
    },
    "tags": []
   },
   "outputs": [],
   "source": [
    "from sklearn.metrics import accuracy_score\n",
    "acc1 = accuracy_score(y_test, y_pred)\n",
    "print(f\"Accuracy score: {acc1}\")"
   ]
  },
  {
   "cell_type": "code",
   "execution_count": null,
   "metadata": {},
   "outputs": [],
   "source": []
  }
 ],
 "metadata": {
  "kernelspec": {
   "display_name": "Python 3",
   "language": "python",
   "name": "python3"
  },
  "language_info": {
   "codemirror_mode": {
    "name": "ipython",
    "version": 3
   },
   "file_extension": ".py",
   "mimetype": "text/x-python",
   "name": "python",
   "nbconvert_exporter": "python",
   "pygments_lexer": "ipython3",
   "version": "3.8.7"
  },
  "papermill": {
   "default_parameters": {},
   "duration": 27.12166,
   "end_time": "2022-01-31T15:18:03.591125",
   "environment_variables": {},
   "exception": null,
   "input_path": "__notebook__.ipynb",
   "output_path": "__notebook__.ipynb",
   "parameters": {},
   "start_time": "2022-01-31T15:17:36.469465",
   "version": "2.3.3"
  }
 },
 "nbformat": 4,
 "nbformat_minor": 5
}
